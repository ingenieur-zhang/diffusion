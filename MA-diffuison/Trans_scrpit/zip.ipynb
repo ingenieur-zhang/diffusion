{
 "cells": [
  {
   "cell_type": "code",
   "execution_count": 1,
   "id": "1b6fdbdd-aa82-44be-bd60-f441ad15046d",
   "metadata": {},
   "outputs": [
    {
     "name": "stdout",
     "output_type": "stream",
     "text": [
      "文件夹已压缩为 Checkpoints.zip\n"
     ]
    }
   ],
   "source": [
    "import zipfile\n",
    "import os\n",
    "\n",
    "# 指定要压缩的文件夹路径\n",
    "folder_to_compress = \"./Checkpoints/\"\n",
    "\n",
    "# 指定压缩文件的名称\n",
    "zip_filename = \"Checkpoints.zip\"\n",
    "\n",
    "# 创建一个ZIP文件并打开以写入\n",
    "with zipfile.ZipFile(zip_filename, \"w\", zipfile.ZIP_DEFLATED) as zipf:\n",
    "    # 遍历文件夹中的所有文件和子文件夹\n",
    "    for root, dirs, files in os.walk(folder_to_compress):\n",
    "        for file in files:\n",
    "            file_path = os.path.join(root, file)\n",
    "            # 计算相对路径以保持文件夹结构\n",
    "            relative_path = os.path.relpath(file_path, folder_to_compress)\n",
    "            zipf.write(file_path, relative_path)\n",
    "\n",
    "print(f\"文件夹已压缩为 {zip_filename}\")"
   ]
  },
  {
   "cell_type": "code",
   "execution_count": null,
   "id": "86e52c68-b6ea-4490-8db7-28cb4eee9b84",
   "metadata": {},
   "outputs": [],
   "source": []
  }
 ],
 "metadata": {
  "kernelspec": {
   "display_name": "clean",
   "language": "python",
   "name": "clean"
  },
  "language_info": {
   "codemirror_mode": {
    "name": "ipython",
    "version": 3
   },
   "file_extension": ".py",
   "mimetype": "text/x-python",
   "name": "python",
   "nbconvert_exporter": "python",
   "pygments_lexer": "ipython3",
   "version": "3.9.17"
  }
 },
 "nbformat": 4,
 "nbformat_minor": 5
}
